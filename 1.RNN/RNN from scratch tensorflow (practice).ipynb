{
 "cells": [
  {
   "cell_type": "code",
   "execution_count": 1,
   "id": "intended-rebound",
   "metadata": {},
   "outputs": [],
   "source": [
    "import tensorflow as tf\n",
    "from tensorflow.keras import layers, Model\n",
    "\n",
    "import matplotlib.pyplot as plt"
   ]
  },
  {
   "cell_type": "markdown",
   "id": "grave-surfing",
   "metadata": {},
   "source": [
    "### Tanh을 구현해봅시다."
   ]
  },
  {
   "cell_type": "code",
   "execution_count": 2,
   "id": "dried-mattress",
   "metadata": {},
   "outputs": [],
   "source": [
    "class Tanh(Model):\n",
    "    def call(self, x):\n",
    "        return 2 / (1 + tf.exp(-2*x)) - 1"
   ]
  },
  {
   "cell_type": "code",
   "execution_count": 3,
   "id": "textile-filename",
   "metadata": {},
   "outputs": [
    {
     "data": {
      "image/png": "[encoded data removed]",
      "text/plain": [
       "<Figure size 576x216 with 1 Axes>"
      ]
     },
     "metadata": {
      "needs_background": "light"
     },
     "output_type": "display_data"
    }
   ],
   "source": [
    "x = tf.linspace(-5, 5, 1000)\n",
    "y = Tanh()(x)\n",
    "\n",
    "plt.figure(figsize=[8, 3])\n",
    "plt.title('Tanh')\n",
    "plt.scatter(x, y, s=1)\n",
    "plt.grid()\n",
    "plt.show()"
   ]
  },
  {
   "cell_type": "markdown",
   "id": "spread-sunday",
   "metadata": {},
   "source": [
    "### Dense Layer를 구현해봅시다."
   ]
  },
  {
   "cell_type": "code",
   "execution_count": 73,
   "id": "mobile-failing",
   "metadata": {},
   "outputs": [],
   "source": [
    "class Dense(Model):\n",
    "    def __init__(self, input_dim, output_dim):\n",
    "        pass\n",
    "        \n",
    "    def call(self, x):\n",
    "        # (batch, input_dim)\n",
    "        pass"
   ]
  },
  {
   "cell_type": "markdown",
   "id": "derived-guinea",
   "metadata": {},
   "source": [
    "### RNNCell을 구현해봅시다.\n",
    "$h^{\\prime}=\\tanh \\left(W_{i h} x+b_{i h}+W_{h h} h+b_{h h}\\right)$"
   ]
  },
  {
   "cell_type": "code",
   "execution_count": 4,
   "id": "governmental-portland",
   "metadata": {},
   "outputs": [],
   "source": [
    "class RNNCell(Model):\n",
    "    def __init__(self, input_dim, hidden_dim, activation=Tanh):\n",
    "        pass        \n",
    "    \n",
    "    def call(self, x, h):\n",
    "        # x : (batch, input_dim)\n",
    "        pass"
   ]
  },
  {
   "cell_type": "markdown",
   "id": "piano-technical",
   "metadata": {},
   "source": [
    "### RNN을 구현해봅시다.\n",
    "\n",
    "RNN는 RNNCell을 sub-layer로 갖고 있습니다.\n",
    "\n",
    "forward pass를 구현하는 call에서 for loop 통해 매 time step의 vector를 RNNCell에 넣고 hidden state를 출력합니다.\n",
    "\n",
    "출력된 hidden state는 다음 time step의 hidden state 입력으로 들어갑니다.\n",
    "\n",
    "첫번째 time step에서는 주어진 hidden state가 없으므로 tf.zeros를 이용하여 0으로 채운 벡터를 사용합니다.\n",
    "\n",
    "모든 time step의 출력은 for loop이 끝난 뒤, tf.stack 명령을 통해 쌓아서 최종 출력으로 만듭니다."
   ]
  },
  {
   "cell_type": "code",
   "execution_count": 77,
   "id": "bigger-dictionary",
   "metadata": {},
   "outputs": [],
   "source": [
    "class RNN(Model):\n",
    "    def __init__(self, input_dim, hidden_dim, activation=Tanh):\n",
    "        pass\n",
    "    \n",
    "    def call(self, x):\n",
    "        # x : (batch, length, input_dim)\n",
    "        pass        \n",
    "    "
   ]
  },
  {
   "cell_type": "markdown",
   "id": "actual-lambda",
   "metadata": {},
   "source": [
    "### GRUCell을 구현해봅시다.\n",
    "\n",
    "\\begin{aligned}\n",
    "&r=\\sigma\\left(W_{i r} x+b_{i r}+W_{h r} h+b_{h r}\\right) \\\\\n",
    "&z=\\sigma\\left(W_{i z} x+b_{i z}+W_{h z} h+b_{h z}\\right) \\\\\n",
    "&n=\\tanh \\left(W_{i n} x+b_{i n}+r *\\left(W_{h n} h+b_{h n}\\right)\\right) \\\\\n",
    "&h^{\\prime}=(1-z) * n+z * h\n",
    "\\end{aligned}"
   ]
  },
  {
   "cell_type": "code",
   "execution_count": 55,
   "id": "available-decade",
   "metadata": {},
   "outputs": [],
   "source": [
    "class Sigmoid(Model):\n",
    "    def call(self, x):\n",
    "        return 1 / (1 + np.exp(-x))"
   ]
  },
  {
   "cell_type": "code",
   "execution_count": 56,
   "id": "attended-powder",
   "metadata": {},
   "outputs": [
    {
     "data": {
      "image/png": "[encoded data removed]",
      "text/plain": [
       "<Figure size 576x216 with 1 Axes>"
      ]
     },
     "metadata": {
      "needs_background": "light"
     },
     "output_type": "display_data"
    }
   ],
   "source": [
    "x = tf.linspace(-5, 5, 1000)\n",
    "y = Sigmoid()(x)\n",
    "\n",
    "plt.figure(figsize=[8, 3])\n",
    "plt.title('Tanh')\n",
    "plt.scatter(x, y, s=1)\n",
    "plt.grid()\n",
    "plt.show()"
   ]
  },
  {
   "cell_type": "code",
   "execution_count": 5,
   "id": "egyptian-bouquet",
   "metadata": {},
   "outputs": [],
   "source": [
    "class GRUCell(Model):\n",
    "    def __init__(self, input_dim, hidden_dim):\n",
    "        pass\n",
    "\n",
    "    def call(self, x, h):\n",
    "        # x : (batch, input_dim)\n",
    "        # h : (batch, hidden_dim)\n",
    "        pass\n",
    "    "
   ]
  },
  {
   "cell_type": "markdown",
   "id": "molecular-blues",
   "metadata": {},
   "source": [
    "### GRU를 구현해봅시다."
   ]
  },
  {
   "cell_type": "code",
   "execution_count": 6,
   "id": "approved-species",
   "metadata": {},
   "outputs": [],
   "source": [
    "class GRU(Model):\n",
    "    def __init__(self, input_dim, hidden_dim):\n",
    "        pass\n",
    "    \n",
    "    def call(self, x):\n",
    "        # x : (batch, length, input_dim)\n",
    "        pass\n",
    "            "
   ]
  },
  {
   "cell_type": "markdown",
   "id": "controlled-conducting",
   "metadata": {},
   "source": [
    "### LSTM을 구현해봅시다.\n",
    "\n",
    "\\begin{aligned}\n",
    "&i=\\sigma\\left(W_{i i} x+b_{i i}+W_{h i} h+b_{h i}\\right) \\\\\n",
    "&f=\\sigma\\left(W_{i f} x+b_{i f}+W_{h f} h+b_{h f}\\right) \\\\\n",
    "&g=\\tanh \\left(W_{i g} x+b_{i g}+W_{h g} h+b_{h g}\\right) \\\\\n",
    "&o=\\sigma\\left(W_{i o} x+b_{i o}+W_{h o} h+b_{h o}\\right) \\\\\n",
    "&c^{\\prime}=f * c+i * g \\\\\n",
    "&h^{\\prime}=o * \\tanh \\left(c^{\\prime}\\right)\n",
    "\\end{aligned}"
   ]
  },
  {
   "cell_type": "code",
   "execution_count": 8,
   "id": "armed-headquarters",
   "metadata": {},
   "outputs": [],
   "source": [
    "class LSTMCell(Model):\n",
    "    def __init__(self, input_dim, hidden_dim):\n",
    "        pass\n",
    "    \n",
    "    def call(self, x, state):\n",
    "        # x : (batch, input_dim)\n",
    "        # state : (batch, hidden_dim), (batch, hidden_dim)\n",
    "        pass\n",
    "        "
   ]
  },
  {
   "cell_type": "code",
   "execution_count": 9,
   "id": "bored-trainer",
   "metadata": {},
   "outputs": [],
   "source": [
    "class LSTM:\n",
    "    def __init__(self, input_dim, hidden_dim):\n",
    "        pass\n",
    "    \n",
    "    def __call__(self, x):\n",
    "        # x : (batch, length, input_dim)\n",
    "        pass"
   ]
  }
 ],
 "metadata": {
  "kernelspec": {
   "display_name": "Python 3",
   "language": "python",
   "name": "python3"
  },
  "language_info": {
   "codemirror_mode": {
    "name": "ipython",
    "version": 3
   },
   "file_extension": ".py",
   "mimetype": "text/x-python",
   "name": "python",
   "nbconvert_exporter": "python",
   "pygments_lexer": "ipython3",
   "version": "3.7.9"
  }
 },
 "nbformat": 4,
 "nbformat_minor": 5
}
