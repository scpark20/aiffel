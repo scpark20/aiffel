{
 "cells": [
  {
   "cell_type": "code",
   "execution_count": 1,
   "id": "boolean-landscape",
   "metadata": {},
   "outputs": [],
   "source": [
    "import numpy as np\n",
    "import matplotlib.pyplot as plt"
   ]
  },
  {
   "cell_type": "markdown",
   "id": "productive-vitamin",
   "metadata": {},
   "source": [
    "### Tanh"
   ]
  },
  {
   "cell_type": "code",
   "execution_count": 2,
   "id": "copyrighted-cancer",
   "metadata": {},
   "outputs": [],
   "source": [
    "class Tanh():\n",
    "    def __call__(self, x):\n",
    "        return 2 / (1 + np.exp(-2*x)) - 1"
   ]
  },
  {
   "cell_type": "code",
   "execution_count": 17,
   "id": "dependent-position",
   "metadata": {},
   "outputs": [
    {
     "data": {
      "image/png": "[encoded data removed]",
      "text/plain": [
       "<Figure size 576x216 with 1 Axes>"
      ]
     },
     "metadata": {
      "needs_background": "light"
     },
     "output_type": "display_data"
    }
   ],
   "source": [
    "x = np.linspace(-5, 5, 1000)\n",
    "y = Tanh()(x)\n",
    "\n",
    "plt.figure(figsize=[8, 3])\n",
    "plt.title('Tanh')\n",
    "plt.scatter(x, y, s=1)\n",
    "plt.grid()\n",
    "plt.show()"
   ]
  },
  {
   "cell_type": "markdown",
   "id": "weekly-daughter",
   "metadata": {},
   "source": [
    "### Dense Layer를 구현해봅시다."
   ]
  },
  {
   "cell_type": "code",
   "execution_count": 18,
   "id": "confidential-links",
   "metadata": {},
   "outputs": [],
   "source": [
    "class Dense:\n",
    "    def __init__(self, input_dim, output_dim):\n",
    "        pass\n",
    "        \n",
    "    def __call__(self, x):\n",
    "        # x : (batch, input_dim)    \n",
    "        pass"
   ]
  },
  {
   "cell_type": "markdown",
   "id": "hungry-learning",
   "metadata": {},
   "source": [
    "### RNNCell을 구현해 봅시다.\n",
    "\n",
    "$h^{\\prime}=\\tanh \\left(W_{i h} x+b_{i h}+W_{h h} h+b_{h h}\\right)$"
   ]
  },
  {
   "cell_type": "code",
   "execution_count": 19,
   "id": "informed-method",
   "metadata": {},
   "outputs": [],
   "source": [
    "class RNNCell:\n",
    "    def __init__(self, input_dim, hidden_dim, activation=Tanh):\n",
    "        pass\n",
    "    \n",
    "    def __call__(self, x, h):\n",
    "        # x : (batch, input_dim)\n",
    "        pass"
   ]
  },
  {
   "cell_type": "markdown",
   "id": "south-specification",
   "metadata": {},
   "source": [
    "### RNN"
   ]
  },
  {
   "cell_type": "code",
   "execution_count": 20,
   "id": "thorough-cabinet",
   "metadata": {},
   "outputs": [],
   "source": [
    "class RNN:\n",
    "    def __init__(self, input_dim, hidden_dim, activation=Tanh):\n",
    "        pass\n",
    "    \n",
    "    def __call__(self, x):\n",
    "        # x : (batch, length, input_dim)\n",
    "        pass\n",
    "  "
   ]
  },
  {
   "cell_type": "markdown",
   "id": "binding-participant",
   "metadata": {},
   "source": [
    "### GRU를 numpy로 구현해봅시다.\n",
    "\n",
    "\\begin{aligned}\n",
    "&r=\\sigma\\left(W_{i r} x+b_{i r}+W_{h r} h+b_{h r}\\right) \\\\\n",
    "&z=\\sigma\\left(W_{i z} x+b_{i z}+W_{h z} h+b_{h z}\\right) \\\\\n",
    "&n=\\tanh \\left(W_{i n} x+b_{i n}+r *\\left(W_{h n} h+b_{h n}\\right)\\right) \\\\\n",
    "&h^{\\prime}=(1-z) * n+z * h\n",
    "\\end{aligned}"
   ]
  },
  {
   "cell_type": "code",
   "execution_count": 21,
   "id": "million-realtor",
   "metadata": {},
   "outputs": [],
   "source": [
    "class Sigmoid():\n",
    "    def __call__(self, x):\n",
    "        return 1 / (1 + np.exp(-x))"
   ]
  },
  {
   "cell_type": "code",
   "execution_count": 22,
   "id": "exempt-billion",
   "metadata": {},
   "outputs": [
    {
     "data": {
      "image/png": "[encoded data removed]",
      "text/plain": [
       "<Figure size 576x216 with 1 Axes>"
      ]
     },
     "metadata": {
      "needs_background": "light"
     },
     "output_type": "display_data"
    }
   ],
   "source": [
    "x = np.linspace(-5, 5, 1000)\n",
    "y = Sigmoid()(x)\n",
    "\n",
    "plt.figure(figsize=[8, 3])\n",
    "plt.title('Sigmoid')\n",
    "plt.scatter(x, y, s=1)\n",
    "plt.grid()\n",
    "plt.show()"
   ]
  },
  {
   "cell_type": "code",
   "execution_count": 23,
   "id": "nearby-protest",
   "metadata": {},
   "outputs": [],
   "source": [
    "class GRUCell:\n",
    "    def __init__(self, input_dim, hidden_dim):\n",
    "        pass\n",
    "\n",
    "    def __call__(self, x, h):\n",
    "        # x : (batch, input_dim)\n",
    "        # h : (batch, hidden_dim)\n",
    "        pass"
   ]
  },
  {
   "cell_type": "code",
   "execution_count": 24,
   "id": "dress-twist",
   "metadata": {},
   "outputs": [],
   "source": [
    "class GRU:\n",
    "    def __init__(self, input_dim, hidden_dim):\n",
    "        pass\n",
    "    \n",
    "    def __call__(self, x):\n",
    "        # x : (batch, length, input_dim)\n",
    "        pass\n",
    "            "
   ]
  },
  {
   "cell_type": "markdown",
   "id": "painful-database",
   "metadata": {},
   "source": [
    "### LSTM을 numpy로 구현해봅시다.\n",
    "\n",
    "\\begin{aligned}\n",
    "&i=\\sigma\\left(W_{i i} x+b_{i i}+W_{h i} h+b_{h i}\\right) \\\\\n",
    "&f=\\sigma\\left(W_{i f} x+b_{i f}+W_{h f} h+b_{h f}\\right) \\\\\n",
    "&g=\\tanh \\left(W_{i g} x+b_{i g}+W_{h g} h+b_{h g}\\right) \\\\\n",
    "&o=\\sigma\\left(W_{i o} x+b_{i o}+W_{h o} h+b_{h o}\\right) \\\\\n",
    "&c^{\\prime}=f * c+i * g \\\\\n",
    "&h^{\\prime}=o * \\tanh \\left(c^{\\prime}\\right)\n",
    "\\end{aligned}"
   ]
  },
  {
   "cell_type": "code",
   "execution_count": 25,
   "id": "thrown-pathology",
   "metadata": {},
   "outputs": [],
   "source": [
    "class LSTMCell:\n",
    "    def __init__(self, input_dim, hidden_dim):\n",
    "        pass\n",
    "        \n",
    "    def __call__(self, x, state):\n",
    "        # x : (batch, input_dim)\n",
    "        # state : (batch, hidden_dim), (batch, hidden_dim)\n",
    "        pass"
   ]
  },
  {
   "cell_type": "code",
   "execution_count": 25,
   "id": "reliable-confidentiality",
   "metadata": {},
   "outputs": [],
   "source": [
    "class LSTM:\n",
    "    def __init__(self, input_dim, hidden_dim):\n",
    "        pass\n",
    "    \n",
    "    def __call__(self, x):\n",
    "        # x : (batch, length, input_dim)\n",
    "        pass"
   ]
  },
  {
   "cell_type": "code",
   "execution_count": null,
   "id": "attended-prison",
   "metadata": {},
   "outputs": [],
   "source": []
  }
 ],
 "metadata": {
  "kernelspec": {
   "display_name": "Python 3",
   "language": "python",
   "name": "python3"
  },
  "language_info": {
   "codemirror_mode": {
    "name": "ipython",
    "version": 3
   },
   "file_extension": ".py",
   "mimetype": "text/x-python",
   "name": "python",
   "nbconvert_exporter": "python",
   "pygments_lexer": "ipython3",
   "version": "3.7.9"
  }
 },
 "nbformat": 4,
 "nbformat_minor": 5
}
