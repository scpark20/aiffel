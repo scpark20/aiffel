{
 "cells": [
  {
   "cell_type": "markdown",
   "id": "preceding-bacon",
   "metadata": {},
   "source": [
    "### KSS Dataset: Korean Single Speaker Speech Dataset\n",
    "\n",
    "https://www.kaggle.com/bryanpark/korean-single-speaker-speech-dataset"
   ]
  },
  {
   "cell_type": "code",
   "execution_count": 6,
   "id": "parental-technical",
   "metadata": {},
   "outputs": [
    {
     "name": "stdout",
     "output_type": "stream",
     "text": [
      "Requirement already satisfied: gdown in /opt/conda/lib/python3.7/site-packages (4.2.0)\n",
      "Requirement already satisfied: beautifulsoup4 in /opt/conda/lib/python3.7/site-packages (from gdown) (4.6.0)\n",
      "Requirement already satisfied: filelock in /opt/conda/lib/python3.7/site-packages (from gdown) (3.0.12)\n",
      "Requirement already satisfied: requests[socks] in /opt/conda/lib/python3.7/site-packages (from gdown) (2.25.1)\n",
      "Requirement already satisfied: six in /opt/conda/lib/python3.7/site-packages (from gdown) (1.15.0)\n",
      "Requirement already satisfied: tqdm in /opt/conda/lib/python3.7/site-packages (from gdown) (4.56.0)\n",
      "Requirement already satisfied: idna<3,>=2.5 in /opt/conda/lib/python3.7/site-packages (from requests[socks]->gdown) (2.10)\n",
      "Requirement already satisfied: urllib3<1.27,>=1.21.1 in /opt/conda/lib/python3.7/site-packages (from requests[socks]->gdown) (1.26.2)\n",
      "Requirement already satisfied: chardet<5,>=3.0.2 in /opt/conda/lib/python3.7/site-packages (from requests[socks]->gdown) (3.0.4)\n",
      "Requirement already satisfied: certifi>=2017.4.17 in /opt/conda/lib/python3.7/site-packages (from requests[socks]->gdown) (2020.12.5)\n",
      "Requirement already satisfied: PySocks!=1.5.7,>=1.5.6 in /opt/conda/lib/python3.7/site-packages (from requests[socks]->gdown) (1.7.1)\n",
      "\u001b[33mWARNING: You are using pip version 20.3.3; however, version 21.3.1 is available.\n",
      "You should consider upgrading via the '/opt/conda/bin/python3.7 -m pip install --upgrade pip' command.\u001b[0m\n"
     ]
    }
   ],
   "source": [
    "!pip install gdown"
   ]
  },
  {
   "cell_type": "code",
   "execution_count": 7,
   "id": "proved-redhead",
   "metadata": {},
   "outputs": [
    {
     "name": "stdout",
     "output_type": "stream",
     "text": [
      "Downloading...\n",
      "From: https://drive.google.com/uc?id=1_ryPtKvk7He6Kl9_SMiMjbmdI6EiMVPe\n",
      "To: /aiffel/aiffel/tacotron2/kss.zip\n",
      "100%|██████████████████████████████████████| 22.5M/22.5M [00:00<00:00, 72.8MB/s]\n"
     ]
    }
   ],
   "source": [
    "!gdown https://drive.google.com/uc?id=1_ryPtKvk7He6Kl9_SMiMjbmdI6EiMVPe"
   ]
  },
  {
   "cell_type": "code",
   "execution_count": 8,
   "id": "japanese-anthropology",
   "metadata": {
    "scrolled": true
   },
   "outputs": [
    {
     "name": "stdout",
     "output_type": "stream",
     "text": [
      "Archive:  kss.zip\n",
      "   creating: kss_dataset/kss/\n",
      "   creating: kss_dataset/kss/1/\n",
      "  inflating: kss_dataset/kss/1/1_0070.wav  \n",
      "  inflating: kss_dataset/kss/1/1_0051.wav  \n",
      "  inflating: kss_dataset/kss/1/1_0099.wav  \n",
      "  inflating: kss_dataset/kss/1/1_0037.wav  \n",
      "  inflating: kss_dataset/kss/1/.DS_Store  \n",
      "  inflating: kss_dataset/kss/1/1_0050.wav  \n",
      "  inflating: kss_dataset/kss/1/1_0081.wav  \n",
      "  inflating: kss_dataset/kss/1/1_0049.wav  \n",
      "  inflating: kss_dataset/kss/1/1_0058.wav  \n",
      "  inflating: kss_dataset/kss/1/1_0032.wav  \n",
      "  inflating: kss_dataset/kss/1/1_0042.wav  \n",
      "  inflating: kss_dataset/kss/1/1_0098.wav  \n",
      "  inflating: kss_dataset/kss/1/1_0024.wav  \n",
      "  inflating: kss_dataset/kss/1/1_0079.wav  \n",
      "  inflating: kss_dataset/kss/1/1_0073.wav  \n",
      "  inflating: kss_dataset/kss/1/1_0053.wav  \n",
      "  inflating: kss_dataset/kss/1/1_0045.wav  \n",
      "  inflating: kss_dataset/kss/1/1_0034.wav  \n",
      "  inflating: kss_dataset/kss/1/1_0043.wav  \n",
      "  inflating: kss_dataset/kss/1/1_0074.wav  \n",
      "  inflating: kss_dataset/kss/1/1_0046.wav  \n",
      "  inflating: kss_dataset/kss/1/1_0015.wav  \n",
      "  inflating: kss_dataset/kss/1/1_0018.wav  \n",
      "  inflating: kss_dataset/kss/1/1_0031.wav  \n",
      "  inflating: kss_dataset/kss/1/1_0040.wav  \n",
      "  inflating: kss_dataset/kss/1/1_0010.wav  \n",
      "  inflating: kss_dataset/kss/1/1_0097.wav  \n",
      "  inflating: kss_dataset/kss/1/1_0011.wav  \n",
      "  inflating: kss_dataset/kss/1/1_0087.wav  \n",
      "  inflating: kss_dataset/kss/1/1_0025.wav  \n",
      "  inflating: kss_dataset/kss/1/1_0003.wav  \n",
      "  inflating: kss_dataset/kss/1/1_0068.wav  \n",
      "  inflating: kss_dataset/kss/1/1_0083.wav  \n",
      "  inflating: kss_dataset/kss/1/1_0000.wav  \n",
      "  inflating: kss_dataset/kss/1/1_0080.wav  \n",
      "  inflating: kss_dataset/kss/1/1_0060.wav  \n",
      "  inflating: kss_dataset/kss/1/1_0077.wav  \n",
      "  inflating: kss_dataset/kss/1/1_0067.wav  \n",
      "  inflating: kss_dataset/kss/1/1_0006.wav  \n",
      "  inflating: kss_dataset/kss/1/1_0004.wav  \n",
      "  inflating: kss_dataset/kss/1/1_0085.wav  \n",
      "  inflating: kss_dataset/kss/1/1_0052.wav  \n",
      "  inflating: kss_dataset/kss/1/1_0093.wav  \n",
      "  inflating: kss_dataset/kss/1/1_0009.wav  \n",
      "  inflating: kss_dataset/kss/1/1_0047.wav  \n",
      "  inflating: kss_dataset/kss/1/1_0023.wav  \n",
      "  inflating: kss_dataset/kss/1/1_0007.wav  \n",
      "  inflating: kss_dataset/kss/1/1_0064.wav  \n",
      "  inflating: kss_dataset/kss/1/1_0012.wav  \n",
      "  inflating: kss_dataset/kss/1/1_0017.wav  \n",
      "  inflating: kss_dataset/kss/1/1_0021.wav  \n",
      "  inflating: kss_dataset/kss/1/1_0028.wav  \n",
      "  inflating: kss_dataset/kss/1/1_0056.wav  \n",
      "  inflating: kss_dataset/kss/1/1_0035.wav  \n",
      "  inflating: kss_dataset/kss/1/1_0055.wav  \n",
      "  inflating: kss_dataset/kss/1/1_0019.wav  \n",
      "  inflating: kss_dataset/kss/1/1_0092.wav  \n",
      "  inflating: kss_dataset/kss/1/1_0071.wav  \n",
      "  inflating: kss_dataset/kss/1/1_0036.wav  \n",
      "  inflating: kss_dataset/kss/1/1_0065.wav  \n",
      "  inflating: kss_dataset/kss/1/1_0082.wav  \n",
      "  inflating: kss_dataset/kss/1/1_0041.wav  \n",
      "  inflating: kss_dataset/kss/1/1_0089.wav  \n",
      "  inflating: kss_dataset/kss/1/1_0069.wav  \n",
      "  inflating: kss_dataset/kss/1/1_0094.wav  \n",
      "  inflating: kss_dataset/kss/1/1_0096.wav  \n",
      "  inflating: kss_dataset/kss/1/1_0005.wav  \n",
      "  inflating: kss_dataset/kss/1/1_0072.wav  \n",
      "  inflating: kss_dataset/kss/1/1_0013.wav  \n",
      "  inflating: kss_dataset/kss/1/1_0030.wav  \n",
      "  inflating: kss_dataset/kss/1/1_0002.wav  \n",
      "  inflating: kss_dataset/kss/1/1_0057.wav  \n",
      "  inflating: kss_dataset/kss/1/1_0091.wav  \n",
      "  inflating: kss_dataset/kss/1/1_0076.wav  \n",
      "  inflating: kss_dataset/kss/1/1_0063.wav  \n",
      "  inflating: kss_dataset/kss/1/1_0059.wav  \n",
      "  inflating: kss_dataset/kss/1/1_0048.wav  \n",
      "  inflating: kss_dataset/kss/1/1_0078.wav  \n",
      "  inflating: kss_dataset/kss/1/1_0084.wav  \n",
      "  inflating: kss_dataset/kss/1/1_0022.wav  \n",
      "  inflating: kss_dataset/kss/1/1_0008.wav  \n",
      "  inflating: kss_dataset/kss/1/1_0029.wav  \n",
      "  inflating: kss_dataset/kss/1/1_0054.wav  \n",
      "  inflating: kss_dataset/kss/1/1_0062.wav  \n",
      "  inflating: kss_dataset/kss/1/1_0027.wav  \n",
      "  inflating: kss_dataset/kss/1/1_0020.wav  \n",
      "  inflating: kss_dataset/kss/1/1_0088.wav  \n",
      "  inflating: kss_dataset/kss/1/1_0061.wav  \n",
      "  inflating: kss_dataset/kss/1/1_0039.wav  \n",
      "  inflating: kss_dataset/kss/1/1_0090.wav  \n",
      "  inflating: kss_dataset/kss/1/1_0026.wav  \n",
      "  inflating: kss_dataset/kss/1/1_0014.wav  \n",
      "  inflating: kss_dataset/kss/1/1_0001.wav  \n",
      "  inflating: kss_dataset/kss/1/1_0033.wav  \n",
      "  inflating: kss_dataset/kss/1/1_0038.wav  \n",
      "  inflating: kss_dataset/kss/1/1_0016.wav  \n",
      "  inflating: kss_dataset/kss/1/1_0086.wav  \n",
      "  inflating: kss_dataset/kss/1/1_0044.wav  \n",
      "  inflating: kss_dataset/kss/1/1_0075.wav  \n",
      "  inflating: kss_dataset/kss/1/1_0066.wav  \n",
      "  inflating: kss_dataset/kss/1/1_0095.wav  \n",
      "  inflating: kss_dataset/transcript.v.1.4.txt  \n"
     ]
    }
   ],
   "source": [
    "!unzip kss.zip -d kss_dataset"
   ]
  }
 ],
 "metadata": {
  "kernelspec": {
   "display_name": "Python 3",
   "language": "python",
   "name": "python3"
  },
  "language_info": {
   "codemirror_mode": {
    "name": "ipython",
    "version": 3
   },
   "file_extension": ".py",
   "mimetype": "text/x-python",
   "name": "python",
   "nbconvert_exporter": "python",
   "pygments_lexer": "ipython3",
   "version": "3.7.9"
  }
 },
 "nbformat": 4,
 "nbformat_minor": 5
}
