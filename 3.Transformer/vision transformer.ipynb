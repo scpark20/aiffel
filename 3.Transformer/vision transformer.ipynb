{
 "cells": [
  {
   "cell_type": "markdown",
   "id": "87ddb4e5",
   "metadata": {},
   "source": [
    "### Vision Transformer Pytorch Implementation"
   ]
  },
  {
   "cell_type": "markdown",
   "id": "5eaa93cf",
   "metadata": {},
   "source": [
    "#### AN IMAGE IS WORTH 16X16 WORDS: TRANSFORMERS FOR IMAGE RECOGNITION AT SCALE\n",
    "\n",
    "Alexey Dosovitskiy, Lucas Beyer, Alexander Kolesnikov, Dirk Weissenborn, Xiaohua Zhai, Thomas Unterthiner, Mostafa Dehghani, Matthias Minderer, Georg Heigold, Sylvain Gelly, Jakob Uszkoreit, Neil Houlsby\n",
    "\n",
    "https://arxiv.org/abs/2010.11929"
   ]
  },
  {
   "cell_type": "markdown",
   "id": "62dedff6",
   "metadata": {},
   "source": [
    "![Vision Transformer Architecture](vit.png \"vit\")"
   ]
  },
  {
   "cell_type": "code",
   "execution_count": 1,
   "id": "6ff51814",
   "metadata": {},
   "outputs": [],
   "source": [
    "import os\n",
    "os.environ[\"CUDA_VISIBLE_DEVICES\"]=\"3\""
   ]
  },
  {
   "cell_type": "code",
   "execution_count": 18,
   "id": "fec430eb",
   "metadata": {},
   "outputs": [],
   "source": [
    "import math\n",
    "import numpy as np\n",
    "import torch\n",
    "import torch.nn as nn\n",
    "import torch.nn.functional as F\n",
    "from torch import Tensor\n",
    "import torchvision\n",
    "import matplotlib.pyplot as plt"
   ]
  },
  {
   "cell_type": "markdown",
   "id": "073a6bf9",
   "metadata": {},
   "source": [
    "### MNIST Dataset"
   ]
  },
  {
   "cell_type": "code",
   "execution_count": 19,
   "id": "3937a7a6",
   "metadata": {},
   "outputs": [
    {
     "name": "stdout",
     "output_type": "stream",
     "text": [
      "done\n"
     ]
    }
   ],
   "source": [
    "transform = torchvision.transforms.ToTensor()\n",
    "train_dataset = torchvision.datasets.MNIST('mnist_dataset/', train=True, download=True, transform=transform)\n",
    "train_loader = torch.utils.data.DataLoader(train_dataset, batch_size=256)\n",
    "\n",
    "test_dataset = torchvision.datasets.MNIST('mnist_dataset/', train=False, download=True, transform=transform)\n",
    "test_loader = torch.utils.data.DataLoader(test_dataset, batch_size=256)\n",
    "print('done')"
   ]
  },
  {
   "cell_type": "code",
   "execution_count": 33,
   "id": "49573f91",
   "metadata": {},
   "outputs": [
    {
     "data": {
      "image/png": "[encoded data removed]",
      "text/plain": [
       "<Figure size 1296x216 with 10 Axes>"
      ]
     },
     "metadata": {},
     "output_type": "display_data"
    }
   ],
   "source": [
    "plt.figure(figsize=[18, 3])\n",
    "for i in range(10):\n",
    "    images, targets = train_dataset[i]\n",
    "    plt.subplot(1, 10, i+1)\n",
    "    plt.title(str(targets))\n",
    "    plt.imshow(images[0], cmap=plt.cm.binary)\n",
    "    plt.xticks([])\n",
    "    plt.yticks([])\n",
    "plt.show()"
   ]
  },
  {
   "cell_type": "markdown",
   "id": "5a390b65",
   "metadata": {},
   "source": [
    "### Model Definition"
   ]
  },
  {
   "cell_type": "code",
   "execution_count": 4,
   "id": "73f44008",
   "metadata": {},
   "outputs": [],
   "source": [
    "# https://pytorch.org/tutorials/beginner/transformer_tutorial.html\n",
    "class PositionalEncoding(nn.Module):\n",
    "\n",
    "    def __init__(self, d_model: int, dropout: float = 0.1, max_len: int = 5000):\n",
    "        super().__init__()\n",
    "        self.dropout = nn.Dropout(p=dropout)\n",
    "\n",
    "        position = torch.arange(max_len).unsqueeze(1)\n",
    "        div_term = torch.exp(torch.arange(0, d_model, 2) * (-math.log(10000.0) / d_model))\n",
    "        pe = torch.zeros(1, max_len, d_model)\n",
    "        pe[0, :, 0::2] = torch.sin(position * div_term)\n",
    "        pe[0, :, 1::2] = torch.cos(position * div_term)\n",
    "        self.register_buffer('pe', pe)\n",
    "\n",
    "    def forward(self, x: Tensor) -> Tensor:\n",
    "        \"\"\"\n",
    "        Args:\n",
    "            x: Tensor, shape [seq_len, batch_size, embedding_dim]\n",
    "        \"\"\"\n",
    "        x = x + self.pe[:, :x.size(1)]\n",
    "        return self.dropout(x)\n",
    "    \n",
    "class VisionTransformer(nn.Module):\n",
    "    def __init__(self, in_channels=1, n_classes=10, patch_size=7, d_model=256, n_heads=4, num_layers=6):\n",
    "        super().__init__()\n",
    "        self.patch_embedding = nn.Conv2d(in_channels=in_channels, out_channels=d_model,\n",
    "                                         kernel_size=patch_size, stride=patch_size)\n",
    "        self.positional_encoding = PositionalEncoding(d_model)\n",
    "        self.class_token = nn.Parameter(torch.randn(1, 1, d_model))\n",
    "        transformer_layer = nn.TransformerEncoderLayer(d_model=d_model, nhead=n_heads)\n",
    "        self.transformer = nn.TransformerEncoder(transformer_layer, num_layers=num_layers)\n",
    "        self.mlp_head = nn.Sequential(nn.Linear(d_model, d_model),\n",
    "                                      nn.Tanh(),\n",
    "                                      nn.Linear(d_model, n_classes))\n",
    "              \n",
    "    def forward(self, x):\n",
    "        # x : (batch, channel, height, width)=(batch, 1, 28, 28)\n",
    "        \n",
    "        '''patch embedding'''\n",
    "        # (batch, d_model, height, width)=(batch, 256, 4, 4)\n",
    "        x = self.patch_embedding(x)\n",
    "        batch, d_model, height, width = x.size()\n",
    "        # (batch, d_model, height*width)=(batch, 256, 16)\n",
    "        x = x.reshape(batch, d_model, height*width)\n",
    "        # (batch, height*width, d_model)\n",
    "        x = x.permute(0, 2, 1)\n",
    "        \n",
    "        '''concat class token '''\n",
    "        # (batch, 1, d_model)\n",
    "        class_token = torch.tile(self.class_token, (batch, 1, 1))\n",
    "        # (batch, 1+height*width, d_model)\n",
    "        x = torch.cat([class_token, x], dim=1)\n",
    "        x = self.positional_encoding(x)\n",
    "        \n",
    "        '''Transformer'''\n",
    "        # (batch, 1+height*width, d_model)\n",
    "        x = self.transformer(x)\n",
    "        \n",
    "        '''MLP head'''\n",
    "        # (batch, d_model)\n",
    "        #x = x[:, 0]\n",
    "        x = x.mean(dim=1)\n",
    "        # (batch, n_classes)\n",
    "        y = self.mlp_head(x)\n",
    "        \n",
    "        return y"
   ]
  },
  {
   "cell_type": "markdown",
   "id": "bbc3dd95",
   "metadata": {},
   "source": [
    "### Model Initialization"
   ]
  },
  {
   "cell_type": "code",
   "execution_count": 13,
   "id": "8d04e78f",
   "metadata": {
    "scrolled": true
   },
   "outputs": [
    {
     "name": "stdout",
     "output_type": "stream",
     "text": [
      "done\n"
     ]
    }
   ],
   "source": [
    "model = VisionTransformer()\n",
    "model = model.cuda()\n",
    "optimizer = torch.optim.Adam(model.parameters(), lr=2e-4)\n",
    "print('done')"
   ]
  },
  {
   "cell_type": "markdown",
   "id": "288a51ac",
   "metadata": {},
   "source": [
    "### Training"
   ]
  },
  {
   "cell_type": "code",
   "execution_count": 14,
   "id": "40dd51aa",
   "metadata": {},
   "outputs": [],
   "source": [
    "from tqdm.notebook import tqdm\n",
    "def train_steps(train_loader, model, optimizer):\n",
    "    print('Training...')\n",
    "    model.train()\n",
    "    averaged_loss = None\n",
    "    pbar = tqdm(enumerate(train_loader), total=len(train_loader))\n",
    "    for i, (images, targets) in pbar:\n",
    "        ''' to GPU'''\n",
    "        # (batch, channel=1, height=28, width=28)\n",
    "        images = images.cuda()\n",
    "        # (batch,)\n",
    "        targets = targets.cuda()\n",
    "\n",
    "        ''' forward pass'''\n",
    "        model.zero_grad()\n",
    "        # (batch, n_classes=10)\n",
    "        preds = model(images)\n",
    "        \n",
    "        '''backward pass'''\n",
    "        loss = nn.CrossEntropyLoss()(preds, targets)\n",
    "        loss.backward()\n",
    "        \n",
    "        '''weight update'''\n",
    "        optimizer.step()\n",
    "        averaged_loss = loss if averaged_loss is None else averaged_loss*0.9 + loss.item()*0.1\n",
    "        pbar.set_description('loss : %2.3f'%averaged_loss)"
   ]
  },
  {
   "cell_type": "code",
   "execution_count": 15,
   "id": "894fd94a",
   "metadata": {},
   "outputs": [],
   "source": [
    "def test_steps(test_loader, model):\n",
    "    print('Test...')\n",
    "    model.eval()\n",
    "    pbar = tqdm(enumerate(test_loader), total=len(test_loader))\n",
    "    corrects = []\n",
    "    for i, (images, targets) in pbar:\n",
    "        ''' to GPU'''\n",
    "        # (batch, channel=1, height=28, width=28)\n",
    "        images = images.cuda()\n",
    "        # (batch,)\n",
    "        targets = targets.cuda()\n",
    "\n",
    "        ''' forward pass'''\n",
    "        with torch.no_grad():\n",
    "            # (batch, n_classes=10)\n",
    "            preds = model(images)\n",
    "            # (batch,)\n",
    "            preds = preds.argmax(dim=1)\n",
    "        \n",
    "        # (batch,)\n",
    "        correct = (preds == targets)\n",
    "        corrects.append(correct)\n",
    "    # (batch,)\n",
    "    corrects = torch.cat(corrects, dim=0)\n",
    "    accuracy = corrects.sum() / len(corrects)\n",
    "    \n",
    "    print('accuracy : %2.3f'%(accuracy*100))\n",
    "    "
   ]
  },
  {
   "cell_type": "code",
   "execution_count": 16,
   "id": "df5da928",
   "metadata": {
    "scrolled": true
   },
   "outputs": [
    {
     "name": "stdout",
     "output_type": "stream",
     "text": [
      "Epoch : 1\n",
      "Training...\n"
     ]
    },
    {
     "data": {
      "application/vnd.jupyter.widget-view+json": {
       "model_id": "4b8d51e44c1b480abf2893bf06986316",
       "version_major": 2,
       "version_minor": 0
      },
      "text/plain": [
       "  0%|          | 0/235 [00:00<?, ?it/s]"
      ]
     },
     "metadata": {},
     "output_type": "display_data"
    },
    {
     "name": "stdout",
     "output_type": "stream",
     "text": [
      "Test...\n"
     ]
    },
    {
     "data": {
      "application/vnd.jupyter.widget-view+json": {
       "model_id": "20e23825aa0c44fa92b52fa8f31c6a11",
       "version_major": 2,
       "version_minor": 0
      },
      "text/plain": [
       "  0%|          | 0/40 [00:00<?, ?it/s]"
      ]
     },
     "metadata": {},
     "output_type": "display_data"
    },
    {
     "name": "stdout",
     "output_type": "stream",
     "text": [
      "accuracy : 60.110\n",
      "Epoch : 2\n",
      "Training...\n"
     ]
    },
    {
     "data": {
      "application/vnd.jupyter.widget-view+json": {
       "model_id": "c1af79aa50454c23a509d9f72072acca",
       "version_major": 2,
       "version_minor": 0
      },
      "text/plain": [
       "  0%|          | 0/235 [00:00<?, ?it/s]"
      ]
     },
     "metadata": {},
     "output_type": "display_data"
    },
    {
     "name": "stdout",
     "output_type": "stream",
     "text": [
      "Test...\n"
     ]
    },
    {
     "data": {
      "application/vnd.jupyter.widget-view+json": {
       "model_id": "d3c0cbb84a1c4d69a02d5f8b9766e73f",
       "version_major": 2,
       "version_minor": 0
      },
      "text/plain": [
       "  0%|          | 0/40 [00:00<?, ?it/s]"
      ]
     },
     "metadata": {},
     "output_type": "display_data"
    },
    {
     "name": "stdout",
     "output_type": "stream",
     "text": [
      "accuracy : 91.420\n",
      "Epoch : 3\n",
      "Training...\n"
     ]
    },
    {
     "data": {
      "application/vnd.jupyter.widget-view+json": {
       "model_id": "1c3b80c8c62045dd942f70a6285dfca8",
       "version_major": 2,
       "version_minor": 0
      },
      "text/plain": [
       "  0%|          | 0/235 [00:00<?, ?it/s]"
      ]
     },
     "metadata": {},
     "output_type": "display_data"
    },
    {
     "name": "stdout",
     "output_type": "stream",
     "text": [
      "Test...\n"
     ]
    },
    {
     "data": {
      "application/vnd.jupyter.widget-view+json": {
       "model_id": "e44efa2c8a694bc2b073a4d6fb23e46b",
       "version_major": 2,
       "version_minor": 0
      },
      "text/plain": [
       "  0%|          | 0/40 [00:00<?, ?it/s]"
      ]
     },
     "metadata": {},
     "output_type": "display_data"
    },
    {
     "name": "stdout",
     "output_type": "stream",
     "text": [
      "accuracy : 94.990\n",
      "Epoch : 4\n",
      "Training...\n"
     ]
    },
    {
     "data": {
      "application/vnd.jupyter.widget-view+json": {
       "model_id": "fd26c40c16f64988829b8b04fbce16bd",
       "version_major": 2,
       "version_minor": 0
      },
      "text/plain": [
       "  0%|          | 0/235 [00:00<?, ?it/s]"
      ]
     },
     "metadata": {},
     "output_type": "display_data"
    },
    {
     "name": "stdout",
     "output_type": "stream",
     "text": [
      "Test...\n"
     ]
    },
    {
     "data": {
      "application/vnd.jupyter.widget-view+json": {
       "model_id": "32d4fac8e22645eabd15df2f31d81dfe",
       "version_major": 2,
       "version_minor": 0
      },
      "text/plain": [
       "  0%|          | 0/40 [00:00<?, ?it/s]"
      ]
     },
     "metadata": {},
     "output_type": "display_data"
    },
    {
     "name": "stdout",
     "output_type": "stream",
     "text": [
      "accuracy : 95.940\n",
      "Epoch : 5\n",
      "Training...\n"
     ]
    },
    {
     "data": {
      "application/vnd.jupyter.widget-view+json": {
       "model_id": "85e44e3201be47cf91e6719b98652af3",
       "version_major": 2,
       "version_minor": 0
      },
      "text/plain": [
       "  0%|          | 0/235 [00:00<?, ?it/s]"
      ]
     },
     "metadata": {},
     "output_type": "display_data"
    },
    {
     "name": "stdout",
     "output_type": "stream",
     "text": [
      "Test...\n"
     ]
    },
    {
     "data": {
      "application/vnd.jupyter.widget-view+json": {
       "model_id": "505d092309684dfdb41a151dc1dd48b0",
       "version_major": 2,
       "version_minor": 0
      },
      "text/plain": [
       "  0%|          | 0/40 [00:00<?, ?it/s]"
      ]
     },
     "metadata": {},
     "output_type": "display_data"
    },
    {
     "name": "stdout",
     "output_type": "stream",
     "text": [
      "accuracy : 95.940\n"
     ]
    }
   ],
   "source": [
    "Epochs = 5\n",
    "for epoch in range(Epochs):\n",
    "    print('Epoch :', epoch+1)\n",
    "    train_steps(train_loader, model, optimizer)\n",
    "    test_steps(test_loader, model)"
   ]
  },
  {
   "cell_type": "markdown",
   "id": "ba02e5f9",
   "metadata": {},
   "source": [
    "### Test"
   ]
  },
  {
   "cell_type": "code",
   "execution_count": 43,
   "id": "b9a2a4a5",
   "metadata": {
    "scrolled": false
   },
   "outputs": [
    {
     "data": {
      "image/png": "[encoded data removed]",
      "text/plain": [
       "<Figure size 1296x720 with 16 Axes>"
      ]
     },
     "metadata": {
      "needs_background": "light"
     },
     "output_type": "display_data"
    }
   ],
   "source": [
    "\n",
    "model.eval()\n",
    "corrects = []\n",
    "for i, (images, targets) in enumerate(test_loader):\n",
    "    ''' to GPU'''\n",
    "    # (batch, channel=1, height=28, width=28)\n",
    "    images = images.cuda()\n",
    "    # (batch,)\n",
    "    targets = targets.cuda()\n",
    "\n",
    "    ''' forward pass'''\n",
    "    with torch.no_grad():\n",
    "        # (batch, n_classes=10)\n",
    "        preds = model(images)\n",
    "        preds = preds.softmax(dim=1)\n",
    "    \n",
    "    _images = images.data.cpu().numpy()\n",
    "    _preds = preds.data.cpu().numpy()\n",
    "    plt.figure(figsize=[18, 10])\n",
    "    for i in range(8):\n",
    "        plt.subplot(4, 4, i*2+1)\n",
    "        plt.imshow(_images[i, 0], cmap=plt.cm.binary)\n",
    "        plt.xticks([])\n",
    "        plt.yticks([])\n",
    "        plt.subplot(4, 4, i*2+2)\n",
    "        plt.title('probability')\n",
    "        plt.bar(list(range(10)), _preds[i], color='blue')\n",
    "\n",
    "    plt.tight_layout()\n",
    "    plt.show()\n",
    "    break"
   ]
  }
 ],
 "metadata": {
  "kernelspec": {
   "display_name": "Python 3 (ipykernel)",
   "language": "python",
   "name": "python3"
  },
  "language_info": {
   "codemirror_mode": {
    "name": "ipython",
    "version": 3
   },
   "file_extension": ".py",
   "mimetype": "text/x-python",
   "name": "python",
   "nbconvert_exporter": "python",
   "pygments_lexer": "ipython3",
   "version": "3.8.8"
  }
 },
 "nbformat": 4,
 "nbformat_minor": 5
}
