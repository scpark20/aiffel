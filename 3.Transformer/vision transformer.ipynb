{
 "cells": [
  {
   "cell_type": "markdown",
   "id": "institutional-multiple",
   "metadata": {},
   "source": [
    "### Vision Transformer Pytorch Implementation"
   ]
  },
  {
   "cell_type": "markdown",
   "id": "presidential-substance",
   "metadata": {},
   "source": [
    "#### AN IMAGE IS WORTH 16X16 WORDS: TRANSFORMERS FOR IMAGE RECOGNITION AT SCALE\n",
    "\n",
    "Alexey Dosovitskiy, Lucas Beyer, Alexander Kolesnikov, Dirk Weissenborn, Xiaohua Zhai, Thomas Unterthiner, Mostafa Dehghani, Matthias Minderer, Georg Heigold, Sylvain Gelly, Jakob Uszkoreit, Neil Houlsby\n",
    "\n",
    "https://arxiv.org/abs/2010.11929"
   ]
  },
  {
   "cell_type": "markdown",
   "id": "outdoor-majority",
   "metadata": {},
   "source": [
    "![Vision Transformer Architecture](vit.png \"vit\")"
   ]
  },
  {
   "cell_type": "code",
   "execution_count": 2,
   "id": "local-bosnia",
   "metadata": {},
   "outputs": [],
   "source": [
    "import os\n",
    "os.environ[\"CUDA_VISIBLE_DEVICES\"]=\"0\""
   ]
  },
  {
   "cell_type": "code",
   "execution_count": 4,
   "id": "emerging-sewing",
   "metadata": {},
   "outputs": [
    {
     "name": "stdout",
     "output_type": "stream",
     "text": [
      "done\n"
     ]
    }
   ],
   "source": [
    "import math\n",
    "import numpy as np\n",
    "import torch\n",
    "import torch.nn as nn\n",
    "import torch.nn.functional as F\n",
    "from torch import Tensor\n",
    "import torchvision\n",
    "import matplotlib.pyplot as plt\n",
    "print('done')"
   ]
  },
  {
   "cell_type": "markdown",
   "id": "extraordinary-liberal",
   "metadata": {},
   "source": [
    "### MNIST Dataset"
   ]
  },
  {
   "cell_type": "code",
   "execution_count": 6,
   "id": "final-antenna",
   "metadata": {
    "scrolled": true
   },
   "outputs": [
    {
     "name": "stdout",
     "output_type": "stream",
     "text": [
      "Downloading http://yann.lecun.com/exdb/mnist/train-images-idx3-ubyte.gz\n",
      "Downloading http://yann.lecun.com/exdb/mnist/train-images-idx3-ubyte.gz to mnist_dataset/MNIST/raw/train-images-idx3-ubyte.gz\n"
     ]
    },
    {
     "data": {
      "application/vnd.jupyter.widget-view+json": {
       "model_id": "882895f5ee7443979f6be76eb4838cca",
       "version_major": 2,
       "version_minor": 0
      },
      "text/plain": [
       "  0%|          | 0/9912422 [00:00<?, ?it/s]"
      ]
     },
     "metadata": {},
     "output_type": "display_data"
    },
    {
     "name": "stdout",
     "output_type": "stream",
     "text": [
      "Extracting mnist_dataset/MNIST/raw/train-images-idx3-ubyte.gz to mnist_dataset/MNIST/raw\n",
      "\n",
      "Downloading http://yann.lecun.com/exdb/mnist/train-labels-idx1-ubyte.gz\n",
      "Downloading http://yann.lecun.com/exdb/mnist/train-labels-idx1-ubyte.gz to mnist_dataset/MNIST/raw/train-labels-idx1-ubyte.gz\n"
     ]
    },
    {
     "data": {
      "application/vnd.jupyter.widget-view+json": {
       "model_id": "3a13eabe2bab408e93ac0f3cda1c6ac4",
       "version_major": 2,
       "version_minor": 0
      },
      "text/plain": [
       "  0%|          | 0/28881 [00:00<?, ?it/s]"
      ]
     },
     "metadata": {},
     "output_type": "display_data"
    },
    {
     "name": "stdout",
     "output_type": "stream",
     "text": [
      "Extracting mnist_dataset/MNIST/raw/train-labels-idx1-ubyte.gz to mnist_dataset/MNIST/raw\n",
      "\n",
      "Downloading http://yann.lecun.com/exdb/mnist/t10k-images-idx3-ubyte.gz\n",
      "Downloading http://yann.lecun.com/exdb/mnist/t10k-images-idx3-ubyte.gz to mnist_dataset/MNIST/raw/t10k-images-idx3-ubyte.gz\n"
     ]
    },
    {
     "data": {
      "application/vnd.jupyter.widget-view+json": {
       "model_id": "6cf05135e6d74f6688df217a8237d069",
       "version_major": 2,
       "version_minor": 0
      },
      "text/plain": [
       "  0%|          | 0/1648877 [00:00<?, ?it/s]"
      ]
     },
     "metadata": {},
     "output_type": "display_data"
    },
    {
     "name": "stdout",
     "output_type": "stream",
     "text": [
      "Extracting mnist_dataset/MNIST/raw/t10k-images-idx3-ubyte.gz to mnist_dataset/MNIST/raw\n",
      "\n",
      "Downloading http://yann.lecun.com/exdb/mnist/t10k-labels-idx1-ubyte.gz\n",
      "Downloading http://yann.lecun.com/exdb/mnist/t10k-labels-idx1-ubyte.gz to mnist_dataset/MNIST/raw/t10k-labels-idx1-ubyte.gz\n"
     ]
    },
    {
     "data": {
      "application/vnd.jupyter.widget-view+json": {
       "model_id": "e29b68572f634846b719fd133d573ef7",
       "version_major": 2,
       "version_minor": 0
      },
      "text/plain": [
       "  0%|          | 0/4542 [00:00<?, ?it/s]"
      ]
     },
     "metadata": {},
     "output_type": "display_data"
    },
    {
     "name": "stdout",
     "output_type": "stream",
     "text": [
      "Extracting mnist_dataset/MNIST/raw/t10k-labels-idx1-ubyte.gz to mnist_dataset/MNIST/raw\n",
      "\n",
      "done\n"
     ]
    },
    {
     "name": "stderr",
     "output_type": "stream",
     "text": [
      "/opt/conda/lib/python3.7/site-packages/torchvision/datasets/mnist.py:498: UserWarning: The given NumPy array is not writeable, and PyTorch does not support non-writeable tensors. This means you can write to the underlying (supposedly non-writeable) NumPy array using the tensor. You may want to copy the array to protect its data or make it writeable before converting it to a tensor. This type of warning will be suppressed for the rest of this program. (Triggered internally at  /pytorch/torch/csrc/utils/tensor_numpy.cpp:180.)\n",
      "  return torch.from_numpy(parsed.astype(m[2], copy=False)).view(*s)\n"
     ]
    }
   ],
   "source": [
    "transform = torchvision.transforms.ToTensor()\n",
    "train_dataset = torchvision.datasets.MNIST('mnist_dataset/', train=True, download=True, transform=transform)\n",
    "train_loader = torch.utils.data.DataLoader(train_dataset, batch_size=256)\n",
    "\n",
    "test_dataset = torchvision.datasets.MNIST('mnist_dataset/', train=False, download=True, transform=transform)\n",
    "test_loader = torch.utils.data.DataLoader(test_dataset, batch_size=256)\n",
    "print('done')"
   ]
  },
  {
   "cell_type": "code",
   "execution_count": 7,
   "id": "natural-following",
   "metadata": {},
   "outputs": [
    {
     "data": {
      "image/png": "[encoded data removed]",
      "text/plain": [
       "<Figure size 1296x216 with 10 Axes>"
      ]
     },
     "metadata": {},
     "output_type": "display_data"
    }
   ],
   "source": [
    "plt.figure(figsize=[18, 3])\n",
    "for i in range(10):\n",
    "    images, targets = train_dataset[i]\n",
    "    plt.subplot(1, 10, i+1)\n",
    "    plt.title(str(targets))\n",
    "    plt.imshow(images[0], cmap=plt.cm.binary)\n",
    "    plt.xticks([])\n",
    "    plt.yticks([])\n",
    "plt.show()"
   ]
  },
  {
   "cell_type": "markdown",
   "id": "ruled-license",
   "metadata": {},
   "source": [
    "### Model Definition"
   ]
  },
  {
   "cell_type": "code",
   "execution_count": 8,
   "id": "textile-medication",
   "metadata": {},
   "outputs": [],
   "source": [
    "# https://pytorch.org/tutorials/beginner/transformer_tutorial.html\n",
    "class PositionalEncoding(nn.Module):\n",
    "\n",
    "    def __init__(self, d_model: int, dropout: float = 0.1, max_len: int = 5000):\n",
    "        super().__init__()\n",
    "        self.dropout = nn.Dropout(p=dropout)\n",
    "\n",
    "        position = torch.arange(max_len).unsqueeze(1)\n",
    "        div_term = torch.exp(torch.arange(0, d_model, 2) * (-math.log(10000.0) / d_model))\n",
    "        pe = torch.zeros(1, max_len, d_model)\n",
    "        pe[0, :, 0::2] = torch.sin(position * div_term)\n",
    "        pe[0, :, 1::2] = torch.cos(position * div_term)\n",
    "        self.register_buffer('pe', pe)\n",
    "\n",
    "    def forward(self, x: Tensor) -> Tensor:\n",
    "        \"\"\"\n",
    "        Args:\n",
    "            x: Tensor, shape [seq_len, batch_size, embedding_dim]\n",
    "        \"\"\"\n",
    "        x = x + self.pe[:, :x.size(1)]\n",
    "        return self.dropout(x)\n",
    "    \n",
    "class VisionTransformer(nn.Module):\n",
    "    def __init__(self, in_channels=1, n_classes=10, patch_size=7, d_model=256, n_heads=4, num_layers=6):\n",
    "        super().__init__()\n",
    "        self.patch_embedding = nn.Conv2d(in_channels=in_channels, out_channels=d_model,\n",
    "                                         kernel_size=patch_size, stride=patch_size)\n",
    "        self.positional_encoding = PositionalEncoding(d_model)\n",
    "        self.class_token = nn.Parameter(torch.randn(1, 1, d_model))\n",
    "        transformer_layer = nn.TransformerEncoderLayer(d_model=d_model, nhead=n_heads)\n",
    "        self.transformer = nn.TransformerEncoder(transformer_layer, num_layers=num_layers)\n",
    "        self.mlp_head = nn.Sequential(nn.Linear(d_model, d_model),\n",
    "                                      nn.Tanh(),\n",
    "                                      nn.Linear(d_model, n_classes))\n",
    "              \n",
    "    def forward(self, x):\n",
    "        # x : (batch, channel, height, width)=(batch, 1, 28, 28)\n",
    "        \n",
    "        '''patch embedding'''\n",
    "        # (batch, d_model, height, width)=(batch, 256, 4, 4)\n",
    "        x = self.patch_embedding(x)\n",
    "        batch, d_model, height, width = x.size()\n",
    "        # (batch, d_model, height*width)=(batch, 256, 16)\n",
    "        x = x.reshape(batch, d_model, height*width)\n",
    "        # (batch, height*width, d_model)\n",
    "        x = x.permute(0, 2, 1)\n",
    "        \n",
    "        '''concat class token '''\n",
    "        # (batch, 1, d_model)\n",
    "        class_token = torch.tile(self.class_token, (batch, 1, 1))\n",
    "        # (batch, 1+height*width, d_model)\n",
    "        x = torch.cat([class_token, x], dim=1)\n",
    "        x = self.positional_encoding(x)\n",
    "        \n",
    "        '''Transformer'''\n",
    "        # (batch, 1+height*width, d_model)\n",
    "        x = self.transformer(x)\n",
    "        \n",
    "        '''MLP head'''\n",
    "        # (batch, d_model)\n",
    "        #x = x[:, 0]\n",
    "        x = x.mean(dim=1)\n",
    "        # (batch, n_classes)\n",
    "        y = self.mlp_head(x)\n",
    "        \n",
    "        return y"
   ]
  },
  {
   "cell_type": "markdown",
   "id": "laden-karma",
   "metadata": {},
   "source": [
    "### Model Initialization"
   ]
  },
  {
   "cell_type": "code",
   "execution_count": 9,
   "id": "strange-amplifier",
   "metadata": {
    "scrolled": true
   },
   "outputs": [
    {
     "name": "stdout",
     "output_type": "stream",
     "text": [
      "done\n"
     ]
    }
   ],
   "source": [
    "model = VisionTransformer()\n",
    "model = model.cuda()\n",
    "optimizer = torch.optim.Adam(model.parameters(), lr=2e-4)\n",
    "print('done')"
   ]
  },
  {
   "cell_type": "markdown",
   "id": "secret-protocol",
   "metadata": {},
   "source": [
    "### Training"
   ]
  },
  {
   "cell_type": "code",
   "execution_count": 10,
   "id": "varied-decrease",
   "metadata": {},
   "outputs": [],
   "source": [
    "from tqdm.notebook import tqdm\n",
    "def train_steps(train_loader, model, optimizer):\n",
    "    print('Training...')\n",
    "    model.train()\n",
    "    averaged_loss = None\n",
    "    pbar = tqdm(enumerate(train_loader), total=len(train_loader))\n",
    "    for i, (images, targets) in pbar:\n",
    "        ''' to GPU'''\n",
    "        # (batch, channel=1, height=28, width=28)\n",
    "        images = images.cuda()\n",
    "        # (batch,)\n",
    "        targets = targets.cuda()\n",
    "\n",
    "        ''' forward pass'''\n",
    "        model.zero_grad()\n",
    "        # (batch, n_classes=10)\n",
    "        preds = model(images)\n",
    "        \n",
    "        '''backward pass'''\n",
    "        loss = nn.CrossEntropyLoss()(preds, targets)\n",
    "        loss.backward()\n",
    "        \n",
    "        '''weight update'''\n",
    "        optimizer.step()\n",
    "        averaged_loss = loss if averaged_loss is None else averaged_loss*0.9 + loss.item()*0.1\n",
    "        pbar.set_description('loss : %2.3f'%averaged_loss)"
   ]
  },
  {
   "cell_type": "code",
   "execution_count": 11,
   "id": "authorized-academy",
   "metadata": {},
   "outputs": [],
   "source": [
    "def test_steps(test_loader, model):\n",
    "    print('Test...')\n",
    "    model.eval()\n",
    "    pbar = tqdm(enumerate(test_loader), total=len(test_loader))\n",
    "    corrects = []\n",
    "    for i, (images, targets) in pbar:\n",
    "        ''' to GPU'''\n",
    "        # (batch, channel=1, height=28, width=28)\n",
    "        images = images.cuda()\n",
    "        # (batch,)\n",
    "        targets = targets.cuda()\n",
    "\n",
    "        ''' forward pass'''\n",
    "        with torch.no_grad():\n",
    "            # (batch, n_classes=10)\n",
    "            preds = model(images)\n",
    "            # (batch,)\n",
    "            preds = preds.argmax(dim=1)\n",
    "        \n",
    "        # (batch,)\n",
    "        correct = (preds == targets)\n",
    "        corrects.append(correct)\n",
    "    # (batch,)\n",
    "    corrects = torch.cat(corrects, dim=0)\n",
    "    accuracy = corrects.sum() / len(corrects)\n",
    "    \n",
    "    print('accuracy : %2.3f'%(accuracy*100))\n",
    "    "
   ]
  },
  {
   "cell_type": "code",
   "execution_count": 12,
   "id": "extensive-advisory",
   "metadata": {
    "scrolled": true
   },
   "outputs": [
    {
     "name": "stdout",
     "output_type": "stream",
     "text": [
      "Epoch : 1\n",
      "Training...\n"
     ]
    },
    {
     "data": {
      "application/vnd.jupyter.widget-view+json": {
       "model_id": "0d15e784878b44dd9f6a9c806a078ed7",
       "version_major": 2,
       "version_minor": 0
      },
      "text/plain": [
       "  0%|          | 0/235 [00:00<?, ?it/s]"
      ]
     },
     "metadata": {},
     "output_type": "display_data"
    },
    {
     "name": "stdout",
     "output_type": "stream",
     "text": [
      "Test...\n"
     ]
    },
    {
     "data": {
      "application/vnd.jupyter.widget-view+json": {
       "model_id": "f51534a3b08646d8ae53304109bcbcdb",
       "version_major": 2,
       "version_minor": 0
      },
      "text/plain": [
       "  0%|          | 0/40 [00:00<?, ?it/s]"
      ]
     },
     "metadata": {},
     "output_type": "display_data"
    },
    {
     "name": "stdout",
     "output_type": "stream",
     "text": [
      "accuracy : 78.070\n",
      "Epoch : 2\n",
      "Training...\n"
     ]
    },
    {
     "data": {
      "application/vnd.jupyter.widget-view+json": {
       "model_id": "f4a350c727734089a09c14c8920971ef",
       "version_major": 2,
       "version_minor": 0
      },
      "text/plain": [
       "  0%|          | 0/235 [00:00<?, ?it/s]"
      ]
     },
     "metadata": {},
     "output_type": "display_data"
    },
    {
     "name": "stdout",
     "output_type": "stream",
     "text": [
      "Test...\n"
     ]
    },
    {
     "data": {
      "application/vnd.jupyter.widget-view+json": {
       "model_id": "dcb0e2bd7edd497f8d76b91949614c11",
       "version_major": 2,
       "version_minor": 0
      },
      "text/plain": [
       "  0%|          | 0/40 [00:00<?, ?it/s]"
      ]
     },
     "metadata": {},
     "output_type": "display_data"
    },
    {
     "name": "stdout",
     "output_type": "stream",
     "text": [
      "accuracy : 93.680\n",
      "Epoch : 3\n",
      "Training...\n"
     ]
    },
    {
     "data": {
      "application/vnd.jupyter.widget-view+json": {
       "model_id": "93f9d5dab2ad421ea44b5d1efef9d439",
       "version_major": 2,
       "version_minor": 0
      },
      "text/plain": [
       "  0%|          | 0/235 [00:00<?, ?it/s]"
      ]
     },
     "metadata": {},
     "output_type": "display_data"
    },
    {
     "name": "stdout",
     "output_type": "stream",
     "text": [
      "Test...\n"
     ]
    },
    {
     "data": {
      "application/vnd.jupyter.widget-view+json": {
       "model_id": "5513217ac05047338f22a426dcea1e47",
       "version_major": 2,
       "version_minor": 0
      },
      "text/plain": [
       "  0%|          | 0/40 [00:00<?, ?it/s]"
      ]
     },
     "metadata": {},
     "output_type": "display_data"
    },
    {
     "name": "stdout",
     "output_type": "stream",
     "text": [
      "accuracy : 95.410\n",
      "Epoch : 4\n",
      "Training...\n"
     ]
    },
    {
     "data": {
      "application/vnd.jupyter.widget-view+json": {
       "model_id": "416846945e784618b653d7df44582304",
       "version_major": 2,
       "version_minor": 0
      },
      "text/plain": [
       "  0%|          | 0/235 [00:00<?, ?it/s]"
      ]
     },
     "metadata": {},
     "output_type": "display_data"
    },
    {
     "name": "stdout",
     "output_type": "stream",
     "text": [
      "Test...\n"
     ]
    },
    {
     "data": {
      "application/vnd.jupyter.widget-view+json": {
       "model_id": "43d7c31f1a344c1d829afce1b045d419",
       "version_major": 2,
       "version_minor": 0
      },
      "text/plain": [
       "  0%|          | 0/40 [00:00<?, ?it/s]"
      ]
     },
     "metadata": {},
     "output_type": "display_data"
    },
    {
     "name": "stdout",
     "output_type": "stream",
     "text": [
      "accuracy : 96.150\n",
      "Epoch : 5\n",
      "Training...\n"
     ]
    },
    {
     "data": {
      "application/vnd.jupyter.widget-view+json": {
       "model_id": "06eb5520309e486d9d4f2d59411f52cf",
       "version_major": 2,
       "version_minor": 0
      },
      "text/plain": [
       "  0%|          | 0/235 [00:00<?, ?it/s]"
      ]
     },
     "metadata": {},
     "output_type": "display_data"
    },
    {
     "name": "stdout",
     "output_type": "stream",
     "text": [
      "Test...\n"
     ]
    },
    {
     "data": {
      "application/vnd.jupyter.widget-view+json": {
       "model_id": "daa96f464fd940b195ca85d514c624e3",
       "version_major": 2,
       "version_minor": 0
      },
      "text/plain": [
       "  0%|          | 0/40 [00:00<?, ?it/s]"
      ]
     },
     "metadata": {},
     "output_type": "display_data"
    },
    {
     "name": "stdout",
     "output_type": "stream",
     "text": [
      "accuracy : 96.500\n"
     ]
    }
   ],
   "source": [
    "Epochs = 5\n",
    "for epoch in range(Epochs):\n",
    "    print('Epoch :', epoch+1)\n",
    "    train_steps(train_loader, model, optimizer)\n",
    "    test_steps(test_loader, model)"
   ]
  },
  {
   "cell_type": "markdown",
   "id": "dried-stocks",
   "metadata": {},
   "source": [
    "### Test"
   ]
  },
  {
   "cell_type": "code",
   "execution_count": 13,
   "id": "musical-passport",
   "metadata": {
    "scrolled": false
   },
   "outputs": [
    {
     "data": {
      "image/png": "[encoded data removed]",
      "text/plain": [
       "<Figure size 1296x720 with 16 Axes>"
      ]
     },
     "metadata": {
      "needs_background": "light"
     },
     "output_type": "display_data"
    }
   ],
   "source": [
    "\n",
    "model.eval()\n",
    "corrects = []\n",
    "for i, (images, targets) in enumerate(test_loader):\n",
    "    ''' to GPU'''\n",
    "    # (batch, channel=1, height=28, width=28)\n",
    "    images = images.cuda()\n",
    "    # (batch,)\n",
    "    targets = targets.cuda()\n",
    "\n",
    "    ''' forward pass'''\n",
    "    with torch.no_grad():\n",
    "        # (batch, n_classes=10)\n",
    "        preds = model(images)\n",
    "        preds = preds.softmax(dim=1)\n",
    "    \n",
    "    _images = images.data.cpu().numpy()\n",
    "    _preds = preds.data.cpu().numpy()\n",
    "    plt.figure(figsize=[18, 10])\n",
    "    for i in range(8):\n",
    "        plt.subplot(4, 4, i*2+1)\n",
    "        plt.imshow(_images[i, 0], cmap=plt.cm.binary)\n",
    "        plt.xticks([])\n",
    "        plt.yticks([])\n",
    "        plt.subplot(4, 4, i*2+2)\n",
    "        plt.title('probability')\n",
    "        plt.bar(list(range(10)), _preds[i], color='blue')\n",
    "\n",
    "    plt.tight_layout()\n",
    "    plt.show()\n",
    "    break"
   ]
  }
 ],
 "metadata": {
  "kernelspec": {
   "display_name": "Python 3",
   "language": "python",
   "name": "python3"
  },
  "language_info": {
   "codemirror_mode": {
    "name": "ipython",
    "version": 3
   },
   "file_extension": ".py",
   "mimetype": "text/x-python",
   "name": "python",
   "nbconvert_exporter": "python",
   "pygments_lexer": "ipython3",
   "version": "3.7.9"
  }
 },
 "nbformat": 4,
 "nbformat_minor": 5
}
